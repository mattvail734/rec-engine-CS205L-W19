{
 "cells": [
  {
   "cell_type": "code",
   "execution_count": 1,
   "metadata": {},
   "outputs": [],
   "source": [
    "import numpy as np\n",
    "import pandas as pd\n",
    "from sklearn.metrics.pairwise import pairwise_distances\n",
    "import load_data\n",
    "import clean_data\n",
    "import custom_matrix_factorization"
   ]
  },
  {
   "cell_type": "code",
   "execution_count": 2,
   "metadata": {},
   "outputs": [],
   "source": [
    "# read small (100k) ratings into a pandas data frame\n",
    "ratings = load_data.load_small_ratings()"
   ]
  },
  {
   "cell_type": "code",
   "execution_count": 3,
   "metadata": {},
   "outputs": [
    {
     "name": "stdout",
     "output_type": "stream",
     "text": [
      "   userId  movieId  rating  timestamp\n",
      "0       1        1     4.0  964982703\n",
      "1       1        3     4.0  964981247\n",
      "2       1        6     4.0  964982224\n",
      "3       1       47     5.0  964983815\n",
      "4       1       50     5.0  964982931\n",
      "(100836, 4)\n"
     ]
    }
   ],
   "source": [
    "print(ratings.head())\n",
    "print(ratings.shape)"
   ]
  },
  {
   "cell_type": "code",
   "execution_count": 4,
   "metadata": {},
   "outputs": [
    {
     "name": "stdout",
     "output_type": "stream",
     "text": [
      "610\n"
     ]
    }
   ],
   "source": [
    "n_users = ratings.userId.unique().shape[0]\n",
    "print(n_users)"
   ]
  },
  {
   "cell_type": "code",
   "execution_count": 5,
   "metadata": {},
   "outputs": [
    {
     "name": "stdout",
     "output_type": "stream",
     "text": [
      "9724\n"
     ]
    }
   ],
   "source": [
    "n_movies = ratings.movieId.unique().shape[0]\n",
    "print(n_movies)"
   ]
  },
  {
   "cell_type": "code",
   "execution_count": 6,
   "metadata": {},
   "outputs": [
    {
     "name": "stdout",
     "output_type": "stream",
     "text": [
      "<class 'numpy.ndarray'>\n",
      "[[4.  0.  4.  ... 0.  0.  0. ]\n",
      " [0.  0.  0.  ... 0.  0.  0. ]\n",
      " [0.  0.  0.  ... 0.  0.  0. ]\n",
      " ...\n",
      " [2.5 2.  2.  ... 0.  0.  0. ]\n",
      " [3.  0.  0.  ... 0.  0.  0. ]\n",
      " [5.  0.  0.  ... 0.  0.  0. ]]\n",
      "(610, 9724)\n"
     ]
    }
   ],
   "source": [
    "# create the complete matrix (as Numpy array) of user x movie ratings\n",
    "complete_ratings_matrix = clean_data.complete_ratings_matrix(ratings)\n",
    "print(type(complete_ratings_matrix))\n",
    "print(complete_ratings_matrix)\n",
    "print(complete_ratings_matrix.shape)"
   ]
  },
  {
   "cell_type": "code",
   "execution_count": 11,
   "metadata": {},
   "outputs": [
    {
     "name": "stdout",
     "output_type": "stream",
     "text": [
      "[[0.         0.97271713 0.94027974 ... 0.70890263 0.90642807 0.85467919]\n",
      " [0.97271713 0.         1.         ... 0.95378905 0.9724346  0.89757325]\n",
      " [0.94027974 1.         0.         ... 0.97887154 1.         0.96788125]\n",
      " ...\n",
      " [0.70890263 0.95378905 0.97887154 ... 0.         0.87800729 0.67794514]\n",
      " [0.90642807 0.9724346  1.         ... 0.87800729 0.         0.94677454]\n",
      " [0.85467919 0.89757325 0.96788125 ... 0.67794514 0.94677454 0.        ]]\n",
      "[[0.         0.58943794 0.7030831  ... 1.         1.         1.        ]\n",
      " [0.58943794 0.         0.71756201 ... 1.         1.         1.        ]\n",
      " [0.7030831  0.71756201 0.         ... 1.         1.         1.        ]\n",
      " ...\n",
      " [1.         1.         1.         ... 0.         0.         1.        ]\n",
      " [1.         1.         1.         ... 0.         0.         1.        ]\n",
      " [1.         1.         1.         ... 1.         1.         0.        ]]\n"
     ]
    }
   ],
   "source": [
    "# calculate user similarity\n",
    "user_similarity = pairwise_distances(complete_ratings_matrix, metric='cosine')\n",
    "item_similarity = pairwise_distances(complete_ratings_matrix.T, metric='cosine')\n",
    "print(user_similarity)\n",
    "print(item_similarity)"
   ]
  },
  {
   "cell_type": "code",
   "execution_count": 14,
   "metadata": {},
   "outputs": [
    {
     "name": "stdout",
     "output_type": "stream",
     "text": [
      "[[4.  0.  4.  ... 0.  0.  0. ]\n",
      " [0.  0.  0.  ... 0.  0.  0. ]\n",
      " [0.  0.  0.  ... 0.  0.  0. ]\n",
      " ...\n",
      " [2.5 2.  2.  ... 0.  0.  0. ]\n",
      " [3.  0.  0.  ... 0.  0.  0. ]\n",
      " [5.  0.  0.  ... 0.  0.  0. ]]\n"
     ]
    }
   ],
   "source": [
    "# use the complete matrix to create a custom_matrix_factorization object\n",
    "K = 20\n",
    "alpha = 0.001\n",
    "beta = 0.01\n",
    "iterations = 100\n",
    "custom_mf = custom_matrix_factorization.custom_matrix_factorization(complete_ratings_matrix, K=K, alpha=alpha, beta=beta, iterations=iterations)\n",
    "print(custom_mf.R)"
   ]
  },
  {
   "cell_type": "code",
   "execution_count": 15,
   "metadata": {},
   "outputs": [
    {
     "data": {
      "text/plain": [
       "array([4., 4., 4., ..., 5., 5., 3.])"
      ]
     },
     "execution_count": 15,
     "metadata": {},
     "output_type": "execute_result"
    }
   ],
   "source": [
    "custom_mf.R[np.where(custom_mf.R != 0)]"
   ]
  },
  {
   "cell_type": "code",
   "execution_count": null,
   "metadata": {},
   "outputs": [],
   "source": []
  }
 ],
 "metadata": {
  "kernelspec": {
   "display_name": "Python 3",
   "language": "python",
   "name": "python3"
  },
  "language_info": {
   "codemirror_mode": {
    "name": "ipython",
    "version": 3
   },
   "file_extension": ".py",
   "mimetype": "text/x-python",
   "name": "python",
   "nbconvert_exporter": "python",
   "pygments_lexer": "ipython3",
   "version": "3.7.2"
  }
 },
 "nbformat": 4,
 "nbformat_minor": 2
}
